{
 "cells": [
  {
   "cell_type": "code",
   "execution_count": 1,
   "metadata": {},
   "outputs": [],
   "source": [
    "from sklearn import preprocessing\n",
    "\n",
    "import numpy as np\n",
    "import pandas as pd\n",
    "\n",
    "import os\n",
    "\n",
    "from english_words import english_words_lower_alpha_set # set of most valid 25k english words\n",
    "\n",
    "from sklearn.feature_extraction.text import CountVectorizer \n",
    "from sklearn.model_selection import train_test_split\n",
    "from sklearn.metrics import accuracy_score, classification_report\n",
    "from sklearn.metrics import confusion_matrix\n",
    "from sklearn.feature_extraction.text import TfidfVectorizer\n",
    "\n",
    "# Models\n",
    "from sklearn.neural_network import MLPClassifier\n",
    "from sklearn.ensemble import GradientBoostingClassifier\n",
    "from sklearn.linear_model import LogisticRegression\n",
    "from sklearn.ensemble import RandomForestClassifier\n",
    "from sklearn.svm import SVC\n",
    "from sklearn.naive_bayes import GaussianNB"
   ]
  },
  {
   "cell_type": "code",
   "execution_count": 2,
   "metadata": {},
   "outputs": [
    {
     "data": {
      "text/html": [
       "<div>\n",
       "<style scoped>\n",
       "    .dataframe tbody tr th:only-of-type {\n",
       "        vertical-align: middle;\n",
       "    }\n",
       "\n",
       "    .dataframe tbody tr th {\n",
       "        vertical-align: top;\n",
       "    }\n",
       "\n",
       "    .dataframe thead th {\n",
       "        text-align: right;\n",
       "    }\n",
       "</style>\n",
       "<table border=\"1\" class=\"dataframe\">\n",
       "  <thead>\n",
       "    <tr style=\"text-align: right;\">\n",
       "      <th></th>\n",
       "      <th>Unnamed: 0</th>\n",
       "      <th>id</th>\n",
       "      <th>abstract</th>\n",
       "      <th>labels</th>\n",
       "    </tr>\n",
       "  </thead>\n",
       "  <tbody>\n",
       "    <tr>\n",
       "      <th>0</th>\n",
       "      <td>0</td>\n",
       "      <td>0</td>\n",
       "      <td>Turing machines and G\\\"odel numbers are import...</td>\n",
       "      <td>cs</td>\n",
       "    </tr>\n",
       "    <tr>\n",
       "      <th>1</th>\n",
       "      <td>1</td>\n",
       "      <td>1</td>\n",
       "      <td>RNA-sequencing has revolutionized biomedical r...</td>\n",
       "      <td>stat</td>\n",
       "    </tr>\n",
       "    <tr>\n",
       "      <th>2</th>\n",
       "      <td>2</td>\n",
       "      <td>2</td>\n",
       "      <td>Queuing models provide insight into the tempor...</td>\n",
       "      <td>physics</td>\n",
       "    </tr>\n",
       "    <tr>\n",
       "      <th>3</th>\n",
       "      <td>3</td>\n",
       "      <td>3</td>\n",
       "      <td>In a multiple-object auction, every bidder tri...</td>\n",
       "      <td>cs</td>\n",
       "    </tr>\n",
       "    <tr>\n",
       "      <th>4</th>\n",
       "      <td>4</td>\n",
       "      <td>4</td>\n",
       "      <td>In arXiv:1109.6438v1 [math.AG] we introduced a...</td>\n",
       "      <td>math</td>\n",
       "    </tr>\n",
       "    <tr>\n",
       "      <th>...</th>\n",
       "      <td>...</td>\n",
       "      <td>...</td>\n",
       "      <td>...</td>\n",
       "      <td>...</td>\n",
       "    </tr>\n",
       "    <tr>\n",
       "      <th>86204</th>\n",
       "      <td>86204</td>\n",
       "      <td>86207</td>\n",
       "      <td>Based on Grad-Shafranov-like equations, a gyro...</td>\n",
       "      <td>physics</td>\n",
       "    </tr>\n",
       "    <tr>\n",
       "      <th>86205</th>\n",
       "      <td>86205</td>\n",
       "      <td>86208</td>\n",
       "      <td>Persistent homology is a method for probing to...</td>\n",
       "      <td>cs</td>\n",
       "    </tr>\n",
       "    <tr>\n",
       "      <th>86206</th>\n",
       "      <td>86206</td>\n",
       "      <td>86209</td>\n",
       "      <td>We study a class of simply connected manifolds...</td>\n",
       "      <td>math</td>\n",
       "    </tr>\n",
       "    <tr>\n",
       "      <th>86207</th>\n",
       "      <td>86207</td>\n",
       "      <td>86210</td>\n",
       "      <td>In this paper, we resolve the computational co...</td>\n",
       "      <td>cs</td>\n",
       "    </tr>\n",
       "    <tr>\n",
       "      <th>86208</th>\n",
       "      <td>86208</td>\n",
       "      <td>86211</td>\n",
       "      <td>Formal approaches to software development are ...</td>\n",
       "      <td>cs</td>\n",
       "    </tr>\n",
       "  </tbody>\n",
       "</table>\n",
       "<p>86209 rows × 4 columns</p>\n",
       "</div>"
      ],
      "text/plain": [
       "       Unnamed: 0     id                                           abstract  \\\n",
       "0               0      0  Turing machines and G\\\"odel numbers are import...   \n",
       "1               1      1  RNA-sequencing has revolutionized biomedical r...   \n",
       "2               2      2  Queuing models provide insight into the tempor...   \n",
       "3               3      3  In a multiple-object auction, every bidder tri...   \n",
       "4               4      4  In arXiv:1109.6438v1 [math.AG] we introduced a...   \n",
       "...           ...    ...                                                ...   \n",
       "86204       86204  86207  Based on Grad-Shafranov-like equations, a gyro...   \n",
       "86205       86205  86208  Persistent homology is a method for probing to...   \n",
       "86206       86206  86209  We study a class of simply connected manifolds...   \n",
       "86207       86207  86210  In this paper, we resolve the computational co...   \n",
       "86208       86208  86211  Formal approaches to software development are ...   \n",
       "\n",
       "        labels  \n",
       "0           cs  \n",
       "1         stat  \n",
       "2      physics  \n",
       "3           cs  \n",
       "4         math  \n",
       "...        ...  \n",
       "86204  physics  \n",
       "86205       cs  \n",
       "86206     math  \n",
       "86207       cs  \n",
       "86208       cs  \n",
       "\n",
       "[86209 rows x 4 columns]"
      ]
     },
     "execution_count": 2,
     "metadata": {},
     "output_type": "execute_result"
    }
   ],
   "source": [
    "final_df = pd.read_csv('final.csv')\n",
    "final_df"
   ]
  },
  {
   "cell_type": "code",
   "execution_count": 3,
   "metadata": {},
   "outputs": [],
   "source": [
    "final_df.drop('Unnamed: 0',axis=1,inplace=True)"
   ]
  },
  {
   "cell_type": "code",
   "execution_count": 4,
   "metadata": {},
   "outputs": [
    {
     "data": {
      "text/html": [
       "<div>\n",
       "<style scoped>\n",
       "    .dataframe tbody tr th:only-of-type {\n",
       "        vertical-align: middle;\n",
       "    }\n",
       "\n",
       "    .dataframe tbody tr th {\n",
       "        vertical-align: top;\n",
       "    }\n",
       "\n",
       "    .dataframe thead th {\n",
       "        text-align: right;\n",
       "    }\n",
       "</style>\n",
       "<table border=\"1\" class=\"dataframe\">\n",
       "  <thead>\n",
       "    <tr style=\"text-align: right;\">\n",
       "      <th></th>\n",
       "      <th>id</th>\n",
       "      <th>abstract</th>\n",
       "      <th>labels</th>\n",
       "    </tr>\n",
       "  </thead>\n",
       "  <tbody>\n",
       "    <tr>\n",
       "      <th>0</th>\n",
       "      <td>0</td>\n",
       "      <td>Turing machines and G\\\"odel numbers are import...</td>\n",
       "      <td>cs</td>\n",
       "    </tr>\n",
       "    <tr>\n",
       "      <th>1</th>\n",
       "      <td>1</td>\n",
       "      <td>RNA-sequencing has revolutionized biomedical r...</td>\n",
       "      <td>stat</td>\n",
       "    </tr>\n",
       "    <tr>\n",
       "      <th>2</th>\n",
       "      <td>2</td>\n",
       "      <td>Queuing models provide insight into the tempor...</td>\n",
       "      <td>physics</td>\n",
       "    </tr>\n",
       "    <tr>\n",
       "      <th>3</th>\n",
       "      <td>3</td>\n",
       "      <td>In a multiple-object auction, every bidder tri...</td>\n",
       "      <td>cs</td>\n",
       "    </tr>\n",
       "    <tr>\n",
       "      <th>4</th>\n",
       "      <td>4</td>\n",
       "      <td>In arXiv:1109.6438v1 [math.AG] we introduced a...</td>\n",
       "      <td>math</td>\n",
       "    </tr>\n",
       "    <tr>\n",
       "      <th>...</th>\n",
       "      <td>...</td>\n",
       "      <td>...</td>\n",
       "      <td>...</td>\n",
       "    </tr>\n",
       "    <tr>\n",
       "      <th>86204</th>\n",
       "      <td>86207</td>\n",
       "      <td>Based on Grad-Shafranov-like equations, a gyro...</td>\n",
       "      <td>physics</td>\n",
       "    </tr>\n",
       "    <tr>\n",
       "      <th>86205</th>\n",
       "      <td>86208</td>\n",
       "      <td>Persistent homology is a method for probing to...</td>\n",
       "      <td>cs</td>\n",
       "    </tr>\n",
       "    <tr>\n",
       "      <th>86206</th>\n",
       "      <td>86209</td>\n",
       "      <td>We study a class of simply connected manifolds...</td>\n",
       "      <td>math</td>\n",
       "    </tr>\n",
       "    <tr>\n",
       "      <th>86207</th>\n",
       "      <td>86210</td>\n",
       "      <td>In this paper, we resolve the computational co...</td>\n",
       "      <td>cs</td>\n",
       "    </tr>\n",
       "    <tr>\n",
       "      <th>86208</th>\n",
       "      <td>86211</td>\n",
       "      <td>Formal approaches to software development are ...</td>\n",
       "      <td>cs</td>\n",
       "    </tr>\n",
       "  </tbody>\n",
       "</table>\n",
       "<p>86209 rows × 3 columns</p>\n",
       "</div>"
      ],
      "text/plain": [
       "          id                                           abstract   labels\n",
       "0          0  Turing machines and G\\\"odel numbers are import...       cs\n",
       "1          1  RNA-sequencing has revolutionized biomedical r...     stat\n",
       "2          2  Queuing models provide insight into the tempor...  physics\n",
       "3          3  In a multiple-object auction, every bidder tri...       cs\n",
       "4          4  In arXiv:1109.6438v1 [math.AG] we introduced a...     math\n",
       "...      ...                                                ...      ...\n",
       "86204  86207  Based on Grad-Shafranov-like equations, a gyro...  physics\n",
       "86205  86208  Persistent homology is a method for probing to...       cs\n",
       "86206  86209  We study a class of simply connected manifolds...     math\n",
       "86207  86210  In this paper, we resolve the computational co...       cs\n",
       "86208  86211  Formal approaches to software development are ...       cs\n",
       "\n",
       "[86209 rows x 3 columns]"
      ]
     },
     "execution_count": 4,
     "metadata": {},
     "output_type": "execute_result"
    }
   ],
   "source": [
    "final_df"
   ]
  },
  {
   "cell_type": "code",
   "execution_count": 5,
   "metadata": {},
   "outputs": [],
   "source": [
    "X = final_df['abstract']\n",
    "y = final_df['labels']"
   ]
  },
  {
   "cell_type": "code",
   "execution_count": 6,
   "metadata": {},
   "outputs": [],
   "source": [
    "le = preprocessing.LabelEncoder()\n",
    "labels = le.fit_transform(y)"
   ]
  },
  {
   "cell_type": "code",
   "execution_count": 7,
   "metadata": {},
   "outputs": [
    {
     "data": {
      "text/plain": [
       "array(['cs', 'math', 'physics', 'stat'], dtype=object)"
      ]
     },
     "execution_count": 7,
     "metadata": {},
     "output_type": "execute_result"
    }
   ],
   "source": [
    "le.classes_"
   ]
  },
  {
   "cell_type": "code",
   "execution_count": 8,
   "metadata": {},
   "outputs": [],
   "source": [
    "cv = CountVectorizer(stop_words='english')\n",
    "vectors = cv.fit_transform(X)"
   ]
  },
  {
   "cell_type": "code",
   "execution_count": 9,
   "metadata": {},
   "outputs": [
    {
     "name": "stdout",
     "output_type": "stream",
     "text": [
      "  (0, 99450)\t5\n",
      "  (0, 58575)\t2\n",
      "  (0, 69192)\t2\n",
      "  (0, 68581)\t1\n",
      "  (0, 48719)\t1\n",
      "  (0, 74443)\t1\n",
      "  (0, 96653)\t2\n",
      "  (0, 23248)\t3\n",
      "  (0, 23249)\t1\n",
      "  (0, 11212)\t1\n",
      "  (0, 66239)\t1\n",
      "  (0, 81929)\t1\n",
      "  (0, 91352)\t1\n",
      "  (0, 48672)\t1\n",
      "  (0, 75986)\t1\n",
      "  (0, 20312)\t1\n",
      "  (0, 48666)\t1\n",
      "  (0, 101053)\t1\n",
      "  (0, 66544)\t2\n",
      "  (0, 38248)\t4\n",
      "  (0, 34784)\t1\n",
      "  (0, 34288)\t1\n",
      "  (0, 34111)\t1\n",
      "  (0, 18733)\t1\n",
      "  (0, 94614)\t1\n",
      "  :\t:\n",
      "  (86208, 8669)\t2\n",
      "  (86208, 56781)\t1\n",
      "  (86208, 105559)\t3\n",
      "  (86208, 12461)\t1\n",
      "  (86208, 50401)\t1\n",
      "  (86208, 90226)\t1\n",
      "  (86208, 17395)\t1\n",
      "  (86208, 8048)\t1\n",
      "  (86208, 59356)\t1\n",
      "  (86208, 17351)\t1\n",
      "  (86208, 85470)\t1\n",
      "  (86208, 102790)\t1\n",
      "  (86208, 77588)\t1\n",
      "  (86208, 18803)\t1\n",
      "  (86208, 55555)\t2\n",
      "  (86208, 43406)\t1\n",
      "  (86208, 97739)\t1\n",
      "  (86208, 68152)\t1\n",
      "  (86208, 23431)\t1\n",
      "  (86208, 9600)\t1\n",
      "  (86208, 11295)\t1\n",
      "  (86208, 17762)\t1\n",
      "  (86208, 8701)\t1\n",
      "  (86208, 33946)\t1\n",
      "  (86208, 45014)\t1\n",
      "[0 3 2 ... 1 0 0]\n"
     ]
    }
   ],
   "source": [
    "print(vectors)\n",
    "print(labels)"
   ]
  },
  {
   "cell_type": "code",
   "execution_count": 73,
   "metadata": {},
   "outputs": [],
   "source": [
    "X_train, X_test, y_train, y_test = train_test_split(vectors, labels, test_size=0.30)"
   ]
  },
  {
   "cell_type": "code",
   "execution_count": 98,
   "metadata": {},
   "outputs": [
    {
     "name": "stderr",
     "output_type": "stream",
     "text": [
      "c:\\users\\lenovo\\appdata\\local\\programs\\python\\python37\\lib\\site-packages\\sklearn\\neural_network\\_multilayer_perceptron.py:573: UserWarning: Training interrupted by user.\n",
      "  warnings.warn(\"Training interrupted by user.\")\n"
     ]
    }
   ],
   "source": [
    "mlp = MLPClassifier()\n",
    "mlp.fit(X_train,y_train)\n",
    "preds_mlp = mlp.predict(X_test)"
   ]
  },
  {
   "cell_type": "code",
   "execution_count": 99,
   "metadata": {},
   "outputs": [
    {
     "data": {
      "text/plain": [
       "0.8947531222209334"
      ]
     },
     "execution_count": 99,
     "metadata": {},
     "output_type": "execute_result"
    }
   ],
   "source": [
    "accuracy_score(preds_mlp, y_test)"
   ]
  },
  {
   "cell_type": "code",
   "execution_count": 76,
   "metadata": {},
   "outputs": [
    {
     "name": "stdout",
     "output_type": "stream",
     "text": [
      "              precision    recall  f1-score   support\n",
      "\n",
      "           0       0.88      0.88      0.88      8586\n",
      "           1       0.94      0.91      0.93      6651\n",
      "           2       0.93      0.92      0.93      7655\n",
      "           3       0.74      0.82      0.78      2971\n",
      "\n",
      "    accuracy                           0.89     25863\n",
      "   macro avg       0.87      0.88      0.88     25863\n",
      "weighted avg       0.90      0.89      0.89     25863\n",
      "\n"
     ]
    }
   ],
   "source": [
    "print(classification_report(preds_mlp, y_test))"
   ]
  },
  {
   "cell_type": "code",
   "execution_count": 100,
   "metadata": {},
   "outputs": [
    {
     "name": "stderr",
     "output_type": "stream",
     "text": [
      "c:\\users\\lenovo\\appdata\\local\\programs\\python\\python37\\lib\\site-packages\\sklearn\\linear_model\\_logistic.py:939: ConvergenceWarning: lbfgs failed to converge (status=1):\n",
      "STOP: TOTAL NO. of ITERATIONS REACHED LIMIT.\n",
      "\n",
      "Increase the number of iterations (max_iter) or scale the data as shown in:\n",
      "    https://scikit-learn.org/stable/modules/preprocessing.html.\n",
      "Please also refer to the documentation for alternative solver options:\n",
      "    https://scikit-learn.org/stable/modules/linear_model.html#logistic-regression\n",
      "  extra_warning_msg=_LOGISTIC_SOLVER_CONVERGENCE_MSG)\n"
     ]
    }
   ],
   "source": [
    "lr = LogisticRegression()\n",
    "lr.fit(X_train,y_train)\n",
    "preds_lr = lr.predict(X_test)"
   ]
  },
  {
   "cell_type": "code",
   "execution_count": 101,
   "metadata": {},
   "outputs": [
    {
     "data": {
      "text/plain": [
       "0.8750338321153772"
      ]
     },
     "execution_count": 101,
     "metadata": {},
     "output_type": "execute_result"
    }
   ],
   "source": [
    "accuracy_score(preds_lr, y_test)"
   ]
  },
  {
   "cell_type": "code",
   "execution_count": 102,
   "metadata": {},
   "outputs": [
    {
     "name": "stdout",
     "output_type": "stream",
     "text": [
      "              precision    recall  f1-score   support\n",
      "\n",
      "           0       0.86      0.86      0.86      8494\n",
      "           1       0.93      0.90      0.92      6695\n",
      "           2       0.92      0.92      0.92      7542\n",
      "           3       0.71      0.75      0.73      3132\n",
      "\n",
      "    accuracy                           0.88     25863\n",
      "   macro avg       0.85      0.86      0.86     25863\n",
      "weighted avg       0.88      0.88      0.88     25863\n",
      "\n"
     ]
    }
   ],
   "source": [
    "print(classification_report(preds_lr, y_test))"
   ]
  },
  {
   "cell_type": "code",
   "execution_count": 109,
   "metadata": {},
   "outputs": [],
   "source": [
    "test = [\"\"\"The present paper is a sample survey analysis, examined based on correlation techniques. The usage of\n",
    "mobile phones is clearly almost un-avoidable these days and as such the authors have made a systematic\n",
    "survey through a well prepared questionnaire on making use of mobile phones to the maximum extent.\n",
    "These samples are various economical groups across a population of over one-lakh people. The results\n",
    "are scientifically categorized and interpreted to match the ground reality. \n",
    "\n",
    "\"\"\"]"
   ]
  },
  {
   "cell_type": "code",
   "execution_count": 110,
   "metadata": {},
   "outputs": [],
   "source": [
    "test = cv.transform(test)"
   ]
  },
  {
   "cell_type": "code",
   "execution_count": 111,
   "metadata": {},
   "outputs": [],
   "source": [
    "names = np.array(['cs', 'math', 'physics', 'stat'])"
   ]
  },
  {
   "cell_type": "code",
   "execution_count": 112,
   "metadata": {},
   "outputs": [],
   "source": [
    "result1 = mlp.predict(test)\n",
    "result2 = lr.predict(test)"
   ]
  },
  {
   "cell_type": "code",
   "execution_count": 113,
   "metadata": {},
   "outputs": [
    {
     "name": "stdout",
     "output_type": "stream",
     "text": [
      "['cs'] ['cs']\n"
     ]
    }
   ],
   "source": [
    "print(names[result2],names[result1])"
   ]
  },
  {
   "cell_type": "code",
   "execution_count": 114,
   "metadata": {},
   "outputs": [],
   "source": [
    "import pickle\n",
    "pickle.dump(mlp,open('classifier.sav','wb'))\n",
    "pickle.dump(cv,open('cv.sav','wb'))"
   ]
  },
  {
   "cell_type": "code",
   "execution_count": null,
   "metadata": {},
   "outputs": [],
   "source": []
  }
 ],
 "metadata": {
  "kernelspec": {
   "display_name": "Python 3",
   "language": "python",
   "name": "python3"
  },
  "language_info": {
   "codemirror_mode": {
    "name": "ipython",
    "version": 3
   },
   "file_extension": ".py",
   "mimetype": "text/x-python",
   "name": "python",
   "nbconvert_exporter": "python",
   "pygments_lexer": "ipython3",
   "version": "3.7.8"
  }
 },
 "nbformat": 4,
 "nbformat_minor": 4
}
