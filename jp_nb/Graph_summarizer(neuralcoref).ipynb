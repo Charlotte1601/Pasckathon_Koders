{
 "cells": [
  {
   "cell_type": "code",
   "execution_count": 1,
   "metadata": {},
   "outputs": [],
   "source": [
    "from nltk.corpus import stopwords\n",
    "from collections import defaultdict\n",
    "import string\n",
    "import heapq\n",
    "import spacy\n",
    "import neuralcoref\n",
    "import urllib.request\n",
    "import fitz"
   ]
  },
  {
   "cell_type": "code",
   "execution_count": 3,
   "metadata": {},
   "outputs": [
    {
     "data": {
      "text/plain": [
       "<spacy.lang.en.English at 0x1e15375b448>"
      ]
     },
     "execution_count": 3,
     "metadata": {},
     "output_type": "execute_result"
    }
   ],
   "source": [
    "nlp=spacy.load(\"en_core_web_md\")\n",
    "neuralcoref.add_to_pipe(nlp)"
   ]
  },
  {
   "cell_type": "code",
   "execution_count": 4,
   "metadata": {},
   "outputs": [],
   "source": [
    "def extract_text_url(url):\n",
    "    \n",
    "    user_agent = 'Mozilla/5.0 (Windows; U; Windows NT 5.1; en-US; rv:1.9.0.7) Gecko/2009021910 Firefox/3.0.7'\n",
    "\n",
    "\n",
    "    headers={'User-Agent':user_agent} \n",
    "\n",
    "    request=urllib.request.Request(url,None,headers) #The assembled request\n",
    "    response = urllib.request.urlopen(request)\n",
    "    data = response.read() # The data u need\n",
    "\n",
    "    text_extracted = ''\n",
    "    text = fitz.open(stream=data, filetype=\"pdf\")\n",
    "    total_page_count = text.pageCount\n",
    "\n",
    "    for page_num in range(total_page_count):\n",
    "        page_ = text.loadPage(page_num).getText()\n",
    "        page_ = page_.replace('\\n', ' ')\n",
    "        text_extracted += page_ + ' '\n",
    "    \n",
    "    return text_extracted"
   ]
  },
  {
   "cell_type": "code",
   "execution_count": 5,
   "metadata": {},
   "outputs": [],
   "source": [
    "text=extract_text_url(\"http://www.int.washington.edu/REU/2019/Chamberlain_Paper.pdf\")"
   ]
  },
  {
   "cell_type": "code",
   "execution_count": 6,
   "metadata": {},
   "outputs": [],
   "source": [
    "def tokenizer(text):\n",
    "    sentence,word_sent=[],[]\n",
    "    stopWords=set(stopwords.words(\"english\"))\n",
    "    doc=nlp(text)\n",
    "    for sent in doc.sents:\n",
    "        sentence.append(sent)\n",
    "        words=[]\n",
    "        for token in sent :\n",
    "            if token.text not in stopWords or token.text not in string.punctuation:\n",
    "                if token.pos_==\"PRON\" and token._.in_coref:\n",
    "                    for cluster in token._.coref_clusters:\n",
    "                        words.append((cluster.main.text,\"NOUN\"))\n",
    "                if token.pos_==\"NOUN\" or token.pos_==\"PROPN\":\n",
    "                    words.append((token.text,token.pos_))\n",
    "        word_sent.append(words)\n",
    "    return sentence,word_sent"
   ]
  },
  {
   "cell_type": "code",
   "execution_count": 7,
   "metadata": {},
   "outputs": [],
   "source": [
    "def graph_building(word_sent):\n",
    "    graph=defaultdict(int)\n",
    "    for words in word_sent:\n",
    "        for i in range(len(words)):\n",
    "            for j in range(i+1,len(words)):\n",
    "                graph[(words[i],words[j])]+=abs(i-j)\n",
    "    for key,values in graph.items():\n",
    "        graph[key]=1/(1+values)\n",
    "    return graph"
   ]
  },
  {
   "cell_type": "code",
   "execution_count": 8,
   "metadata": {},
   "outputs": [],
   "source": [
    "def sentence_extraction(graph,word_sent,sentence,gamma=0.1):\n",
    "    noun_score=defaultdict(int)\n",
    "    for key,value in graph.items():\n",
    "        noun_score[key[0][0]]+=value\n",
    "    sent_score=defaultdict(int)\n",
    "    for i,words in enumerate(word_sent):\n",
    "        for word in words:\n",
    "            sent_score[sentence[i].text]+=(1-gamma)*noun_score[word[0]]\n",
    "    summary_sent=heapq.nlargest(7,sent_score,key=sent_score.get)\n",
    "    print(\"\\n\".join(summary_sent))"
   ]
  },
  {
   "cell_type": "code",
   "execution_count": 9,
   "metadata": {},
   "outputs": [],
   "source": [
    "sentence,word_sent=tokenizer(text)"
   ]
  },
  {
   "cell_type": "code",
   "execution_count": 10,
   "metadata": {},
   "outputs": [],
   "source": [
    "graph=graph_building(word_sent)"
   ]
  },
  {
   "cell_type": "code",
   "execution_count": 11,
   "metadata": {},
   "outputs": [
    {
     "name": "stdout",
     "output_type": "stream",
     "text": [
      "4 Rabi Oscillation Curves Producing Rabi oscillations by altering the decoherence rate of the NV center’s spin state is vital in order to measure the π pulse time of the NV center.\n",
      "If this were a Pulsed ODMR scan taken from a single NV sample, the next step would be to compare this result with the PLE taken of the same NV center to see if there is a correlation between this result and the amount of spectral diffusion that was measured for that NV center.\n",
      "This ability to resolve the spin state of a single NV center yields the ability to study the hyperﬁne interaction of its spin state, as well as match the number of nuclear interactions with the respective spins of the NV center’s isotope.\n",
      "After the isotope identiﬁcations are compared with their corresponding PLE spectra,the consequences of this possible relationship will result in a better understanding of not only whether ion implantation produces reliable NV centers, but will also result in a better understanding of how to potentially utilize naturally stable NV centers to improve emission stability of NV centers as qubits.\n",
      "This is done for a number of single NV centers on each sample, so the next step is to locate those exact same NV centers, repeat the tests, and then analyze to see if there is a distinct correlation between the isotope of the NV center, and how much spectral diffusion it displays.\n",
      "optically detected magnetic resonance (CW ODMR) scans is to determine the resonant frequency of the RF signal necessary to drive the spin state of the NV center from the ms = 0 ground state to its ms = ±1 excited state.\n",
      "In order to identify the isotope of an individual nitrogen-vacancy center, its spin state must be studied in order to resolve the hyperﬁne interaction of the NV center’s nuclear spin states.\n"
     ]
    }
   ],
   "source": [
    "sentence_extraction(graph,word_sent,sentence)"
   ]
  },
  {
   "cell_type": "code",
   "execution_count": null,
   "metadata": {},
   "outputs": [],
   "source": []
  }
 ],
 "metadata": {
  "kernelspec": {
   "display_name": "Python 3",
   "language": "python",
   "name": "python3"
  },
  "language_info": {
   "codemirror_mode": {
    "name": "ipython",
    "version": 3
   },
   "file_extension": ".py",
   "mimetype": "text/x-python",
   "name": "python",
   "nbconvert_exporter": "python",
   "pygments_lexer": "ipython3",
   "version": "3.7.4"
  }
 },
 "nbformat": 4,
 "nbformat_minor": 4
}
